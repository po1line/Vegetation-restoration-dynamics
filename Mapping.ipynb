{
 "cells": [
  {
   "cell_type": "markdown",
   "id": "ab6b1b1e",
   "metadata": {},
   "source": [
    "# Libraries\n",
    "\n",
    "For mapping trained models are used. Image segmentation is performed after the same prepatation, as was made for data for algorithm training:\n",
    "1) getting additional information from bands -- spectral indicies;\n",
    "2) data normalisation"
   ]
  },
  {
   "cell_type": "code",
   "execution_count": 1,
   "id": "76ff5df3",
   "metadata": {},
   "outputs": [],
   "source": [
    "#libraries\n",
    "\n",
    "import os\n",
    "import pandas as pd\n",
    "import numpy as np\n",
    "import rasterio as rio\n",
    "from itertools import product\n",
    "from rasterio import windows\n",
    "import matplotlib.pyplot as plt\n",
    "from sklearn import preprocessing\n",
    "\n",
    "from osgeo import gdal\n",
    "from osgeo.gdalconst import GDT_Int16\n",
    "\n",
    "import joblib"
   ]
  },
  {
   "cell_type": "code",
   "execution_count": 2,
   "id": "d9d825d0",
   "metadata": {},
   "outputs": [],
   "source": [
    "import warnings\n",
    "warnings.filterwarnings('ignore')"
   ]
  },
  {
   "cell_type": "markdown",
   "id": "ca81dc17",
   "metadata": {},
   "source": [
    "# Helpers"
   ]
  },
  {
   "cell_type": "code",
   "execution_count": 3,
   "id": "b3cd04aa",
   "metadata": {},
   "outputs": [],
   "source": [
    "col_names = ['B1',\n",
    " 'B2',\n",
    " 'B3',\n",
    " 'B4',\n",
    " 'B5',\n",
    " 'B6',\n",
    " 'B7',\n",
    " 'B8',\n",
    " 'B8A',\n",
    " 'B9',\n",
    " 'B11',\n",
    " 'B12']\n",
    "\n",
    "col_names_full = ['B1',\n",
    " 'B2',\n",
    " 'B3',\n",
    " 'B4',\n",
    " 'B5',\n",
    " 'B6',\n",
    " 'B7',\n",
    " 'B8',\n",
    " 'B8A',\n",
    " 'B9',\n",
    " 'B11',\n",
    " 'B12',\n",
    " 'ndvi',\n",
    " 'evi',\n",
    " 'savi',\n",
    " 'msi',\n",
    " 'bsi']"
   ]
  },
  {
   "cell_type": "code",
   "execution_count": 4,
   "id": "e0427fa5",
   "metadata": {},
   "outputs": [],
   "source": [
    "def NDVI(red: pd.Series, nir: pd.Series):\n",
    "    ndvi = (nir - red) / ((nir + red).apply(lambda x: 0.000001 if x == 0 else x))\n",
    "    return ndvi\n",
    "\n",
    "def EVI(red: pd.Series, nir: pd.Series, blue: pd.Series):\n",
    "    evi = (2.5 * ((nir - red) / (nir + 6 * red - 7.5 * blue + 1)).apply(lambda x: 0.000001 if x == 0 else x))\n",
    "    return evi\n",
    "    \n",
    "\n",
    "def SAVI(red: pd.Series, nir: pd.Series):  \n",
    "    savi = ((nir - red) / 1.428*(nir + red + 0.428).apply(lambda x: 0.000001 if x == 0 else x))\n",
    "    return savi\n",
    "    \n",
    "\n",
    "def MSI(nir: pd.Series, thermal2: pd.Series): \n",
    "    msi = ((thermal2/nir).apply(lambda x: 0.000001 if x == 0 else x))\n",
    "    return msi\n",
    "    \n",
    "\n",
    "def BSI(red: pd.Series, nir: pd.Series, thermal2: pd.Series, blue: pd.Series):  \n",
    "    bsi = (((thermal2+red)-(nir+blue))/((thermal2+red)+(nir+blue)).apply(lambda x: 0.000001 if x == 0 else x))\n",
    "    return bsi\n",
    "    \n",
    "\n",
    "def get_spectral_indices(df: pd.DataFrame) -> pd.DataFrame:\n",
    "    blue = df['B2']\n",
    "    #green = df['B3']\n",
    "    red = df['B4']\n",
    "    nir = df['B8']\n",
    "    thermal2 = df['B11']\n",
    "    \n",
    "    df.loc[:, \"NDVI\"] = NDVI(red=red, nir=nir)\n",
    "    df.loc[:, \"EVI\"] = EVI(red=red, nir=nir, blue=blue)\n",
    "    df.loc[:, \"SAVI\"] = SAVI(red=red, nir=nir)\n",
    "    df.loc[:, \"MSI\"] = MSI(nir=nir, thermal2=thermal2)\n",
    "    df.loc[:, \"BSI\"] = BSI(thermal2=thermal2, red=red, nir=nir, blue=blue)\n",
    "    return df\n"
   ]
  },
  {
   "cell_type": "code",
   "execution_count": 5,
   "id": "a60354d6",
   "metadata": {},
   "outputs": [],
   "source": [
    "def to_2d_array(x: np.ndarray)->np.ndarray: \n",
    "    return x.reshape(x.shape[0], x.shape[1] * x.shape[2])"
   ]
  },
  {
   "cell_type": "code",
   "execution_count": 6,
   "id": "b0efbf07",
   "metadata": {},
   "outputs": [],
   "source": [
    "def save_tif(raster_input:str, raster_output:str, values:np.array):\n",
    "    in_data, out_data = None, None\n",
    "    in_data = gdal.Open(raster_input)\n",
    "    if in_data is None:\n",
    "        print ('Unable to open %s' % raster_input)\n",
    "    band1 = in_data.GetRasterBand(1)\n",
    "    rows = in_data.RasterYSize\n",
    "    cols = in_data.RasterXSize\n",
    "    driver = in_data.GetDriver()\n",
    "    out_data = driver.Create(raster_output, cols, rows, 1, GDT_Int16)\n",
    "    dem_data = np.array(values)\n",
    "    out_band = out_data.GetRasterBand(1)\n",
    "    out_band.WriteArray(dem_data)\n",
    "    out_band.FlushCache()\n",
    "    out_band.SetNoDataValue(-1)\n",
    "\n",
    "    out_data.SetGeoTransform(in_data.GetGeoTransform())\n",
    "    out_data.SetProjection(in_data.GetProjection())\n",
    "    del out_data\n",
    "    return 'Done'"
   ]
  },
  {
   "cell_type": "code",
   "execution_count": 8,
   "id": "b49f50a4",
   "metadata": {},
   "outputs": [],
   "source": [
    "def get_dataset(x: np.ndarray)->pd.DataFrame:\n",
    "    bands = x[:12, ...]\n",
    "    bands = to_2d_array(x[:12, ...]) \n",
    "    raw_data = pd.DataFrame(bands.T, columns=col_names)\n",
    "    df_ = get_spectral_indices(raw_data)\n",
    "    df_.replace([np.inf, -np.inf], np.nan, inplace=True)\n",
    "    min_max_scaler = preprocessing.MinMaxScaler()\n",
    "    x_scaled = min_max_scaler.fit_transform(df_.values)\n",
    "    df = pd.DataFrame(x_scaled, columns = col_names_full)\n",
    "    return df"
   ]
  },
  {
   "cell_type": "markdown",
   "id": "053fdb36",
   "metadata": {},
   "source": [
    "# Mapping"
   ]
  },
  {
   "cell_type": "markdown",
   "id": "83bf6536",
   "metadata": {},
   "source": [
    "## Models read"
   ]
  },
  {
   "cell_type": "code",
   "execution_count": 9,
   "id": "67040e23",
   "metadata": {},
   "outputs": [],
   "source": [
    "svc_model = joblib.load('svc_best_model.joblib')\n",
    "rf_model = joblib.load('rf_best_model.joblib')\n",
    "knn_model = joblib.load('knn_best_model.joblib')"
   ]
  },
  {
   "cell_type": "code",
   "execution_count": 10,
   "id": "81f99741",
   "metadata": {},
   "outputs": [],
   "source": [
    "svc_model_w = joblib.load('svc_worst_model.joblib')\n",
    "rf_model_w = joblib.load('rf_worst_model.joblib')\n",
    "knn_model_w = joblib.load('knn_worst_model.joblib')"
   ]
  },
  {
   "cell_type": "markdown",
   "id": "73a63c6b",
   "metadata": {},
   "source": [
    "## Getting classified raster"
   ]
  },
  {
   "cell_type": "code",
   "execution_count": 11,
   "id": "fcec4772",
   "metadata": {},
   "outputs": [],
   "source": [
    "fname = 'data/2020_kola_median_composite.tif' #Sentinel-2 image"
   ]
  },
  {
   "cell_type": "code",
   "execution_count": 12,
   "id": "921e2a20",
   "metadata": {},
   "outputs": [],
   "source": [
    "#function for pixels classification\n",
    "def simple_classifier(df: pd.DataFrame)->np.ndarray:\n",
    "    null_sample = df[df.isnull().any(axis=1)]\n",
    "    predict_sample = df[~df.isnull().any(axis=1)]\n",
    "    predict_sample['class'] = knn_model_w.predict(predict_sample)\n",
    "    null_sample['class'] = 0\n",
    "    fin_sample = pd.concat([predict_sample, null_sample], sort=False).sort_index()\n",
    "    mask = fin_sample['class']\n",
    "    return mask.values #return np array"
   ]
  },
  {
   "cell_type": "code",
   "execution_count": 14,
   "id": "3ca641e6",
   "metadata": {},
   "outputs": [
    {
     "name": "stdout",
     "output_type": "stream",
     "text": [
      "Done\n"
     ]
    }
   ],
   "source": [
    "with rio.open(fname, 'r+') as src:\n",
    "    x = src.read() #raster read\n",
    "    df = get_dataset(x) #raster to dataframe\n",
    "    predictions = simple_classifier(df) #dataframe classification\n",
    "    cover_tile = predictions.reshape((x.shape[1], x.shape[2])) #reshaping array to the shape of the raster\n",
    "    output_mask=cover_tile\n",
    "\n",
    "raster_output = 'knn_model_w_map.tif' #output file name\n",
    "status = save_tif(raster_input=fname, raster_output=raster_output, values=output_mask)\n",
    "print(status)"
   ]
  },
  {
   "cell_type": "code",
   "execution_count": 15,
   "id": "d8b5a495",
   "metadata": {},
   "outputs": [],
   "source": [
    "# getting tif file for forest mask if the size of the file is big\n",
    "\n",
    "#def get_tiles(ds, width=256, height=256):\n",
    "#    nols, nrows = ds.meta['width'], ds.meta['height']\n",
    "#    offsets = product(range(0, nols, width), range(0, nrows, height))\n",
    "#    big_window = windows.Window(col_off=0, row_off=0, width=nols, height=nrows)\n",
    "#    for col_off, row_off in  offsets:\n",
    "#        window =windows.Window(col_off=col_off, \n",
    "#                               row_off=row_off, \n",
    "#                               width=width, \n",
    "#                               height=height).intersection(big_window)\n",
    "#        transform = windows.transform(window, ds.transform)\n",
    "#        yield window, transform\n",
    "\n",
    "\n",
    "#tile_width, tile_height = 512, 512\n",
    "\n",
    "#with rio.open(fname, 'r+') as src:\n",
    "#    meta = src.meta.copy()\n",
    "#    output_mask = np.zeros(shape = (meta['height'], meta['width']))\n",
    "#    for window, transform in get_tiles(src, \n",
    "#                                       width=tile_width,\n",
    "#                                       height=tile_height):\n",
    "#        meta['transform'] = transform\n",
    "#        meta['width'], meta['height'] = window.width, window.height\n",
    "        \n",
    "#        x = src.read(window=window)\n",
    "#        df = get_dataset(x)\n",
    "        \n",
    "#        predictions = simple_classifier(df)\n",
    "#        cover_tile = predictions.reshape(meta['height'], meta['width'])\n",
    "#        ranges = window.toranges()\n",
    "#        output_mask[ranges[0][0]:ranges[0][1],ranges[1][0]:ranges[1][1]] = cover_tile\n",
    "\n",
    "#raster_output = 'prediction_forest_knn_worst.tif'\n",
    "#status = save_tif(raster_input=fname, raster_output=raster_output, values=output_mask)\n",
    "#print(status)"
   ]
  }
 ],
 "metadata": {
  "kernelspec": {
   "display_name": "Python 3 (ipykernel)",
   "language": "python",
   "name": "python3"
  },
  "language_info": {
   "codemirror_mode": {
    "name": "ipython",
    "version": 3
   },
   "file_extension": ".py",
   "mimetype": "text/x-python",
   "name": "python",
   "nbconvert_exporter": "python",
   "pygments_lexer": "ipython3",
   "version": "3.9.16"
  },
  "toc": {
   "base_numbering": 1,
   "nav_menu": {},
   "number_sections": true,
   "sideBar": true,
   "skip_h1_title": false,
   "title_cell": "Table of Contents",
   "title_sidebar": "Contents",
   "toc_cell": false,
   "toc_position": {},
   "toc_section_display": true,
   "toc_window_display": false
  }
 },
 "nbformat": 4,
 "nbformat_minor": 5
}
