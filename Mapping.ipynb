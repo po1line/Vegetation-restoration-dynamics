{
 "cells": [
  {
   "cell_type": "markdown",
   "id": "f08ef72f",
   "metadata": {},
   "source": [
    "# Mapping\n",
    "\n",
    "For mapping trained models are used. Image segmentation is performed after the same prepatation, as was made for data for algorithm training:\n",
    "1) getting additional information from bands -- spectral indicies \\\n",
    "2) data normalisation"
   ]
  },
  {
   "cell_type": "code",
   "execution_count": 1,
   "id": "cb83c826",
   "metadata": {},
   "outputs": [],
   "source": [
    "#libraries\n",
    "\n",
    "import os\n",
    "import pandas as pd\n",
    "import numpy as np\n",
    "import rasterio as rio\n",
    "from itertools import product\n",
    "from rasterio import windows\n",
    "import matplotlib.pyplot as plt\n",
    "from sklearn import preprocessing\n",
    "\n",
    "from osgeo import gdal\n",
    "from osgeo.gdalconst import GDT_Int16\n",
    "\n",
    "import joblib"
   ]
  },
  {
   "cell_type": "code",
   "execution_count": 2,
   "id": "7e224a2c",
   "metadata": {},
   "outputs": [],
   "source": [
    "import warnings\n",
    "warnings.filterwarnings('ignore')"
   ]
  },
  {
   "cell_type": "code",
   "execution_count": 3,
   "id": "97dd0f01",
   "metadata": {},
   "outputs": [],
   "source": [
    "#helpers to get classified data\n",
    "from utils import col_names, col_names_full, get_spectral_indices, to_2d_array, save_tif, get_dataset, simple_classifier, get_raster"
   ]
  },
  {
   "cell_type": "markdown",
   "id": "96e30753",
   "metadata": {},
   "source": [
    "# Models read"
   ]
  },
  {
   "cell_type": "code",
   "execution_count": 4,
   "id": "2f9cf348",
   "metadata": {},
   "outputs": [],
   "source": [
    "svc_model = joblib.load('models/svc_best_model.joblib')\n",
    "rf_model = joblib.load('models/rf_best_model.joblib')\n",
    "knn_model = joblib.load('models/knn_best_model.joblib')"
   ]
  },
  {
   "cell_type": "markdown",
   "id": "3c711c7e",
   "metadata": {},
   "source": [
    "# Raster classification"
   ]
  },
  {
   "cell_type": "code",
   "execution_count": 7,
   "id": "e9315cf2",
   "metadata": {},
   "outputs": [
    {
     "name": "stdout",
     "output_type": "stream",
     "text": [
      "Done\n"
     ]
    }
   ],
   "source": [
    "path = 'data/2021_kola_median_composite.tif'\n",
    "\n",
    "get_raster(path=path,\n",
    "           model=knn_model, output_name='data/knn_best_model_2021')"
   ]
  },
  {
   "cell_type": "markdown",
   "id": "7db28474",
   "metadata": {},
   "source": [
    "# Conclusion"
   ]
  },
  {
   "cell_type": "markdown",
   "id": "b47de5bd",
   "metadata": {},
   "source": [
    "Visual inspection of results disproove the highest detection accuracy of SMOTE: it positevely detects areas do not belond to the urban class, such as one of the hills within the ROI -- Nyuduayvenchor, did not detect urban classes at the center of the image, negatively biased to flooded vegetation.\n",
    "The most promissing algorithm according to the visual inspection of results is Random Forest. However, on the contrary, it is positevely biased to urban class, while the bare soils could be mapped in the left bottom corner. Such misclassification could be a result of mixing up the disturbed areas with urban classes, which could be further improved by the class balancing and label data enrichment."
   ]
  }
 ],
 "metadata": {
  "kernelspec": {
   "display_name": "geo",
   "language": "python",
   "name": "geo"
  },
  "language_info": {
   "codemirror_mode": {
    "name": "ipython",
    "version": 3
   },
   "file_extension": ".py",
   "mimetype": "text/x-python",
   "name": "python",
   "nbconvert_exporter": "python",
   "pygments_lexer": "ipython3",
   "version": "3.9.16"
  },
  "toc": {
   "base_numbering": 1,
   "nav_menu": {},
   "number_sections": true,
   "sideBar": true,
   "skip_h1_title": false,
   "title_cell": "Table of Contents",
   "title_sidebar": "Contents",
   "toc_cell": false,
   "toc_position": {},
   "toc_section_display": true,
   "toc_window_display": false
  }
 },
 "nbformat": 4,
 "nbformat_minor": 5
}
